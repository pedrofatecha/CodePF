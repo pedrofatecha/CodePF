{
 "cells": [
  {
   "cell_type": "code",
   "execution_count": 9,
   "metadata": {},
   "outputs": [],
   "source": [
    "from pathlib import Path\n",
    "import duckdb"
   ]
  },
  {
   "cell_type": "code",
   "execution_count": 10,
   "metadata": {},
   "outputs": [],
   "source": [
    "input_file = Path(\"../data\") / \"companies_sorted.parquet\""
   ]
  },
  {
   "cell_type": "code",
   "execution_count": 11,
   "metadata": {},
   "outputs": [],
   "source": [
    "# Create connection\n",
    "conn = duckdb.connect()"
   ]
  },
  {
   "cell_type": "code",
   "execution_count": 12,
   "metadata": {},
   "outputs": [
    {
     "name": "stdout",
     "output_type": "stream",
     "text": [
      "7173426 rows in parquet file\n",
      "CPU times: user 3.87 ms, sys: 1.43 ms, total: 5.3 ms\n",
      "Wall time: 2.42 ms\n"
     ]
    }
   ],
   "source": [
    "%%time\n",
    "# Count number of rows in parquet file\n",
    "tbl = conn.sql(\n",
    "    f\"\"\"\n",
    "    SELECT COUNT(*) AS counts FROM \"{input_file}\";\n",
    "    \"\"\"\n",
    ")\n",
    "counts = tbl.fetchone()[0]\n",
    "print(f\"{counts} rows in parquet file\")"
   ]
  },
  {
   "cell_type": "code",
   "execution_count": 13,
   "metadata": {},
   "outputs": [
    {
     "name": "stdout",
     "output_type": "stream",
     "text": [
      "['C0', 'name', 'domain', 'year founded', 'industry', 'size range', 'locality', 'country', 'linkedin url', 'current employee estimate', 'total employee estimate']\n",
      "CPU times: user 422 µs, sys: 39 µs, total: 461 µs\n",
      "Wall time: 461 µs\n"
     ]
    }
   ],
   "source": [
    "%%time\n",
    "# Count number of rows in parquet file\n",
    "tbl = conn.sql(\n",
    "    f\"\"\"\n",
    "    SELECT * FROM \"{input_file}\";\n",
    "    \"\"\"\n",
    ")\n",
    "print(tbl.columns)"
   ]
  },
  {
   "cell_type": "code",
   "execution_count": 14,
   "metadata": {},
   "outputs": [
    {
     "name": "stdout",
     "output_type": "stream",
     "text": [
      "Columns in parquet file: ['name', 'country', 'year founded']\n",
      "CPU times: user 885 ms, sys: 42.6 ms, total: 927 ms\n",
      "Wall time: 193 ms\n"
     ]
    },
    {
     "data": {
      "text/plain": [
       "┌────────────────────────────────────────┬────────────────┬──────────────┐\n",
       "│                  name                  │    country     │ year founded │\n",
       "│                varchar                 │    varchar     │    double    │\n",
       "├────────────────────────────────────────┼────────────────┼──────────────┤\n",
       "│ university of glasgow                  │ united kingdom │       1451.0 │\n",
       "│ marine corps officer selection         │ united states  │       1775.0 │\n",
       "│ us naval reserve officer               │ united states  │       1775.0 │\n",
       "│ technology services organization (tso) │ united states  │       1775.0 │\n",
       "│ u.s. department of the treasury        │ united states  │       1789.0 │\n",
       "│ white house athletic center            │ united states  │       1789.0 │\n",
       "│ old farmer's almanac                   │ united states  │       1792.0 │\n",
       "│ the times herald                       │ united states  │       1799.0 │\n",
       "│ us army                                │ united states  │       1800.0 │\n",
       "│ leonardslee house & gardens            │ united kingdom │       1801.0 │\n",
       "├────────────────────────────────────────┴────────────────┴──────────────┤\n",
       "│ 10 rows                                                      3 columns │\n",
       "└────────────────────────────────────────────────────────────────────────┘"
      ]
     },
     "execution_count": 14,
     "metadata": {},
     "output_type": "execute_result"
    }
   ],
   "source": [
    "%%time\n",
    "# Read specific columns from parquet file and sort by year founded\n",
    "tbl1 = conn.sql(\n",
    "    f\"\"\"\n",
    "    SELECT name, country, \"year founded\" FROM tbl\n",
    "    WHERE country IS NOT NULL AND \"year founded\" IS NOT NULL\n",
    "    ORDER BY \"year founded\";\n",
    "    \"\"\"\n",
    ")\n",
    "\n",
    "print(f\"Columns in parquet file: {tbl1.columns}\")\n",
    "\n",
    "result = tbl1.limit(10).execute()\n",
    "result"
   ]
  },
  {
   "cell_type": "code",
   "execution_count": 15,
   "metadata": {},
   "outputs": [
    {
     "name": "stdout",
     "output_type": "stream",
     "text": [
      "CPU times: user 839 ms, sys: 26.4 ms, total: 866 ms\n",
      "Wall time: 128 ms\n"
     ]
    },
    {
     "data": {
      "text/plain": [
       "┌─────────────────────────────────────┬─────────────────┐\n",
       "│              industry               │ total_employees │\n",
       "│               varchar               │     int128      │\n",
       "├─────────────────────────────────────┼─────────────────┤\n",
       "│ information technology and services │         5373820 │\n",
       "│ higher education                    │         3171737 │\n",
       "│ hospital & health care              │         2944166 │\n",
       "│ financial services                  │         2697000 │\n",
       "│ retail                              │         2254787 │\n",
       "│ telecommunications                  │         1914927 │\n",
       "│ banking                             │         1843068 │\n",
       "│ oil & energy                        │         1654288 │\n",
       "│ computer software                   │         1648061 │\n",
       "│ insurance                           │         1392000 │\n",
       "├─────────────────────────────────────┴─────────────────┤\n",
       "│ 10 rows                                     2 columns │\n",
       "└───────────────────────────────────────────────────────┘"
      ]
     },
     "execution_count": 15,
     "metadata": {},
     "output_type": "execute_result"
    }
   ],
   "source": [
    "%%time\n",
    "# Group by industry and total number of estimated employees\n",
    "tbl2 = conn.sql(\n",
    "    f\"\"\"\n",
    "    SELECT industry, sum(\"current employee estimate\") AS total_employees FROM tbl\n",
    "    WHERE country IS NOT NULL AND \"year founded\" IS NOT NULL\n",
    "    GROUP BY industry\n",
    "    ORDER BY total_employees DESC;\n",
    "    \"\"\"\n",
    ")\n",
    "result = tbl2.limit(10).execute()\n",
    "result"
   ]
  },
  {
   "cell_type": "code",
   "execution_count": 16,
   "metadata": {},
   "outputs": [
    {
     "name": "stdout",
     "output_type": "stream",
     "text": [
      "CPU times: user 477 ms, sys: 16.5 ms, total: 493 ms\n",
      "Wall time: 75.2 ms\n"
     ]
    },
    {
     "data": {
      "text/plain": [
       "┌────────────────┬─────────────────┐\n",
       "│    country     │ total_employees │\n",
       "│    varchar     │     int128      │\n",
       "├────────────────┼─────────────────┤\n",
       "│ united states  │        32031261 │\n",
       "│ united kingdom │         4853601 │\n",
       "│ india          │         2788292 │\n",
       "│ canada         │         2356054 │\n",
       "│ france         │         1989108 │\n",
       "│ netherlands    │         1632887 │\n",
       "│ brazil         │         1518917 │\n",
       "│ australia      │         1212179 │\n",
       "│ germany        │         1195447 │\n",
       "│ spain          │         1150026 │\n",
       "├────────────────┴─────────────────┤\n",
       "│ 10 rows                2 columns │\n",
       "└──────────────────────────────────┘"
      ]
     },
     "execution_count": 16,
     "metadata": {},
     "output_type": "execute_result"
    }
   ],
   "source": [
    "%%time\n",
    "# Group by country and total number of estimated employees\n",
    "tbl3 = conn.sql(\n",
    "    f\"\"\"\n",
    "    SELECT country, sum(\"current employee estimate\") AS total_employees FROM tbl\n",
    "    WHERE country IS NOT NULL AND \"year founded\" IS NOT NULL\n",
    "    GROUP BY country\n",
    "    ORDER BY total_employees DESC;\n",
    "    \"\"\"\n",
    ")\n",
    "result = tbl3.limit(10).execute()\n",
    "result"
   ]
  }
 ],
 "metadata": {
  "kernelspec": {
   "display_name": ".venv",
   "language": "python",
   "name": "python3"
  },
  "language_info": {
   "codemirror_mode": {
    "name": "ipython",
    "version": 3
   },
   "file_extension": ".py",
   "mimetype": "text/x-python",
   "name": "python",
   "nbconvert_exporter": "python",
   "pygments_lexer": "ipython3",
   "version": "3.11.2"
  },
  "orig_nbformat": 4
 },
 "nbformat": 4,
 "nbformat_minor": 2
}
